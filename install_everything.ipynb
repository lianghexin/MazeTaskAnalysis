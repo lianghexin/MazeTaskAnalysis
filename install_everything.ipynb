{
 "cells": [
  {
   "cell_type": "code",
   "execution_count": 1,
   "id": "55e5fafb-a7cc-4647-841f-48cf3c9af92f",
   "metadata": {},
   "outputs": [
    {
     "name": "stdout",
     "output_type": "stream",
     "text": [
      "Collecting spikeinterface[full]\n",
      "  Using cached spikeinterface-0.100.2-py3-none-any.whl.metadata (9.3 kB)\n",
      "Requirement already satisfied: numpy in c:\\users\\leelab\\appdata\\local\\anaconda3\\lib\\site-packages (from spikeinterface[full]) (1.26.4)\n",
      "Collecting threadpoolctl>=3.0.0 (from spikeinterface[full])\n",
      "  Using cached threadpoolctl-3.4.0-py3-none-any.whl.metadata (13 kB)\n",
      "Requirement already satisfied: tqdm in c:\\users\\leelab\\appdata\\local\\anaconda3\\lib\\site-packages (from spikeinterface[full]) (4.65.0)\n",
      "Collecting zarr>=0.2.16 (from spikeinterface[full])\n",
      "  Using cached zarr-2.17.1-py3-none-any.whl.metadata (5.7 kB)\n",
      "Collecting neo>=0.13.0 (from spikeinterface[full])\n",
      "  Using cached neo-0.13.0-py3-none-any.whl.metadata (8.8 kB)\n",
      "Collecting probeinterface>=0.2.21 (from spikeinterface[full])\n",
      "  Using cached probeinterface-0.2.21-py3-none-any.whl.metadata (5.3 kB)\n",
      "Requirement already satisfied: h5py in c:\\users\\leelab\\appdata\\local\\anaconda3\\lib\\site-packages (from spikeinterface[full]) (3.9.0)\n",
      "Requirement already satisfied: pandas in c:\\users\\leelab\\appdata\\local\\anaconda3\\lib\\site-packages (from spikeinterface[full]) (2.1.4)\n",
      "Requirement already satisfied: xarray in c:\\users\\leelab\\appdata\\local\\anaconda3\\lib\\site-packages (from spikeinterface[full]) (2023.6.0)\n",
      "Requirement already satisfied: scipy in c:\\users\\leelab\\appdata\\local\\anaconda3\\lib\\site-packages (from spikeinterface[full]) (1.11.4)\n",
      "Requirement already satisfied: scikit-learn in c:\\users\\leelab\\appdata\\local\\anaconda3\\lib\\site-packages (from spikeinterface[full]) (1.2.2)\n",
      "Requirement already satisfied: networkx in c:\\users\\leelab\\appdata\\local\\anaconda3\\lib\\site-packages (from spikeinterface[full]) (3.1)\n",
      "Collecting distinctipy (from spikeinterface[full])\n",
      "  Using cached distinctipy-1.3.4-py3-none-any.whl.metadata (7.7 kB)\n",
      "Requirement already satisfied: matplotlib in c:\\users\\leelab\\appdata\\local\\anaconda3\\lib\\site-packages (from spikeinterface[full]) (3.8.0)\n",
      "Requirement already satisfied: numba in c:\\users\\leelab\\appdata\\local\\anaconda3\\lib\\site-packages (from spikeinterface[full]) (0.59.0)\n",
      "Collecting cuda-python (from spikeinterface[full])\n",
      "  Using cached cuda_python-12.4.0-cp311-cp311-win_amd64.whl.metadata (12 kB)\n",
      "Requirement already satisfied: packaging in c:\\users\\leelab\\appdata\\local\\anaconda3\\lib\\site-packages (from neo>=0.13.0->spikeinterface[full]) (23.1)\n",
      "Collecting quantities>=0.14.1 (from neo>=0.13.0->spikeinterface[full])\n",
      "  Using cached quantities-0.15.0-py3-none-any.whl.metadata (8.4 kB)\n",
      "Collecting asciitree (from zarr>=0.2.16->spikeinterface[full])\n",
      "  Using cached asciitree-0.3.3-py3-none-any.whl\n",
      "Collecting numcodecs>=0.10.0 (from zarr>=0.2.16->spikeinterface[full])\n",
      "  Using cached numcodecs-0.12.1-cp311-cp311-win_amd64.whl.metadata (2.9 kB)\n",
      "Collecting fasteners (from zarr>=0.2.16->spikeinterface[full])\n",
      "  Using cached fasteners-0.19-py3-none-any.whl.metadata (4.9 kB)\n",
      "Requirement already satisfied: contourpy>=1.0.1 in c:\\users\\leelab\\appdata\\local\\anaconda3\\lib\\site-packages (from matplotlib->spikeinterface[full]) (1.2.0)\n",
      "Requirement already satisfied: cycler>=0.10 in c:\\users\\leelab\\appdata\\local\\anaconda3\\lib\\site-packages (from matplotlib->spikeinterface[full]) (0.11.0)\n",
      "Requirement already satisfied: fonttools>=4.22.0 in c:\\users\\leelab\\appdata\\local\\anaconda3\\lib\\site-packages (from matplotlib->spikeinterface[full]) (4.25.0)\n",
      "Requirement already satisfied: kiwisolver>=1.0.1 in c:\\users\\leelab\\appdata\\local\\anaconda3\\lib\\site-packages (from matplotlib->spikeinterface[full]) (1.4.4)\n",
      "Requirement already satisfied: pillow>=6.2.0 in c:\\users\\leelab\\appdata\\local\\anaconda3\\lib\\site-packages (from matplotlib->spikeinterface[full]) (10.2.0)\n",
      "Requirement already satisfied: pyparsing>=2.3.1 in c:\\users\\leelab\\appdata\\local\\anaconda3\\lib\\site-packages (from matplotlib->spikeinterface[full]) (3.0.9)\n",
      "Requirement already satisfied: python-dateutil>=2.7 in c:\\users\\leelab\\appdata\\local\\anaconda3\\lib\\site-packages (from matplotlib->spikeinterface[full]) (2.8.2)\n",
      "Requirement already satisfied: llvmlite<0.43,>=0.42.0dev0 in c:\\users\\leelab\\appdata\\local\\anaconda3\\lib\\site-packages (from numba->spikeinterface[full]) (0.42.0)\n",
      "Requirement already satisfied: pytz>=2020.1 in c:\\users\\leelab\\appdata\\local\\anaconda3\\lib\\site-packages (from pandas->spikeinterface[full]) (2023.3.post1)\n",
      "Requirement already satisfied: tzdata>=2022.1 in c:\\users\\leelab\\appdata\\local\\anaconda3\\lib\\site-packages (from pandas->spikeinterface[full]) (2023.3)\n",
      "Requirement already satisfied: joblib>=1.1.1 in c:\\users\\leelab\\appdata\\local\\anaconda3\\lib\\site-packages (from scikit-learn->spikeinterface[full]) (1.2.0)\n",
      "Requirement already satisfied: colorama in c:\\users\\leelab\\appdata\\local\\anaconda3\\lib\\site-packages (from tqdm->spikeinterface[full]) (0.4.6)\n",
      "Requirement already satisfied: six>=1.5 in c:\\users\\leelab\\appdata\\local\\anaconda3\\lib\\site-packages (from python-dateutil>=2.7->matplotlib->spikeinterface[full]) (1.16.0)\n",
      "Using cached neo-0.13.0-py3-none-any.whl (620 kB)\n",
      "Using cached probeinterface-0.2.21-py3-none-any.whl (41 kB)\n",
      "Using cached threadpoolctl-3.4.0-py3-none-any.whl (17 kB)\n",
      "Using cached zarr-2.17.1-py3-none-any.whl (207 kB)\n",
      "Using cached cuda_python-12.4.0-cp311-cp311-win_amd64.whl (10.5 MB)\n",
      "Using cached distinctipy-1.3.4-py3-none-any.whl (26 kB)\n",
      "Using cached spikeinterface-0.100.2-py3-none-any.whl (803 kB)\n",
      "Using cached numcodecs-0.12.1-cp311-cp311-win_amd64.whl (790 kB)\n",
      "Using cached quantities-0.15.0-py3-none-any.whl (101 kB)\n",
      "Using cached fasteners-0.19-py3-none-any.whl (18 kB)\n",
      "Installing collected packages: cuda-python, asciitree, threadpoolctl, quantities, probeinterface, numcodecs, fasteners, distinctipy, zarr, neo, spikeinterface\n",
      "  Attempting uninstall: threadpoolctl\n",
      "    Found existing installation: threadpoolctl 2.2.0\n",
      "    Uninstalling threadpoolctl-2.2.0:\n",
      "      Successfully uninstalled threadpoolctl-2.2.0\n",
      "Successfully installed asciitree-0.3.3 cuda-python-12.4.0 distinctipy-1.3.4 fasteners-0.19 neo-0.13.0 numcodecs-0.12.1 probeinterface-0.2.21 quantities-0.15.0 spikeinterface-0.100.2 threadpoolctl-3.4.0 zarr-2.17.1\n"
     ]
    }
   ],
   "source": [
    "!pip install spikeinterface[full]"
   ]
  },
  {
   "cell_type": "code",
   "execution_count": 2,
   "id": "7f4e0fc2-9670-4798-a4f0-82545e680e12",
   "metadata": {},
   "outputs": [
    {
     "name": "stdout",
     "output_type": "stream",
     "text": [
      "Collecting ripple_detection\n",
      "  Downloading ripple_detection-1.4.0-py3-none-any.whl.metadata (384 bytes)\n",
      "Requirement already satisfied: numpy>=1.11 in c:\\users\\leelab\\appdata\\local\\anaconda3\\lib\\site-packages (from ripple_detection) (1.26.4)\n",
      "Requirement already satisfied: pandas>=0.18.0 in c:\\users\\leelab\\appdata\\local\\anaconda3\\lib\\site-packages (from ripple_detection) (2.1.4)\n",
      "Requirement already satisfied: scipy in c:\\users\\leelab\\appdata\\local\\anaconda3\\lib\\site-packages (from ripple_detection) (1.11.4)\n",
      "Requirement already satisfied: python-dateutil>=2.8.2 in c:\\users\\leelab\\appdata\\local\\anaconda3\\lib\\site-packages (from pandas>=0.18.0->ripple_detection) (2.8.2)\n",
      "Requirement already satisfied: pytz>=2020.1 in c:\\users\\leelab\\appdata\\local\\anaconda3\\lib\\site-packages (from pandas>=0.18.0->ripple_detection) (2023.3.post1)\n",
      "Requirement already satisfied: tzdata>=2022.1 in c:\\users\\leelab\\appdata\\local\\anaconda3\\lib\\site-packages (from pandas>=0.18.0->ripple_detection) (2023.3)\n",
      "Requirement already satisfied: six>=1.5 in c:\\users\\leelab\\appdata\\local\\anaconda3\\lib\\site-packages (from python-dateutil>=2.8.2->pandas>=0.18.0->ripple_detection) (1.16.0)\n",
      "Downloading ripple_detection-1.4.0-py3-none-any.whl (12 kB)\n",
      "Installing collected packages: ripple_detection\n",
      "Successfully installed ripple_detection-1.4.0\n"
     ]
    }
   ],
   "source": [
    "!pip install ripple_detection"
   ]
  },
  {
   "cell_type": "code",
   "execution_count": 1,
   "id": "f23a1407-bcaf-4711-ae3e-6efbe042e5c2",
   "metadata": {},
   "outputs": [
    {
     "name": "stdout",
     "output_type": "stream",
     "text": [
      "Collecting open-ephys-python-tools\n",
      "  Downloading open-ephys-python-tools-0.1.7.tar.gz (381 kB)\n",
      "     ---------------------------------------- 0.0/381.8 kB ? eta -:--:--\n",
      "     ------------------------------------- 381.8/381.8 kB 24.8 MB/s eta 0:00:00\n",
      "  Installing build dependencies: started\n",
      "  Installing build dependencies: finished with status 'done'\n",
      "  Getting requirements to build wheel: started\n",
      "  Getting requirements to build wheel: finished with status 'done'\n",
      "  Installing backend dependencies: started\n",
      "  Installing backend dependencies: finished with status 'done'\n",
      "  Preparing metadata (pyproject.toml): started\n",
      "  Preparing metadata (pyproject.toml): finished with status 'done'\n",
      "Requirement already satisfied: numpy in c:\\users\\leelab\\appdata\\local\\anaconda3\\envs\\kilosort\\lib\\site-packages (from open-ephys-python-tools) (1.26.4)\n",
      "Requirement already satisfied: pandas in c:\\users\\leelab\\appdata\\local\\anaconda3\\envs\\kilosort\\lib\\site-packages (from open-ephys-python-tools) (2.2.1)\n",
      "Collecting h5py (from open-ephys-python-tools)\n",
      "  Downloading h5py-3.10.0-cp39-cp39-win_amd64.whl.metadata (2.5 kB)\n",
      "Collecting zmq (from open-ephys-python-tools)\n",
      "  Downloading zmq-0.0.0.zip (2.2 kB)\n",
      "  Preparing metadata (setup.py): started\n",
      "  Preparing metadata (setup.py): finished with status 'done'\n",
      "Requirement already satisfied: requests in c:\\users\\leelab\\appdata\\local\\anaconda3\\envs\\kilosort\\lib\\site-packages (from open-ephys-python-tools) (2.31.0)\n",
      "Requirement already satisfied: python-dateutil>=2.8.2 in c:\\users\\leelab\\appdata\\local\\anaconda3\\envs\\kilosort\\lib\\site-packages (from pandas->open-ephys-python-tools) (2.8.2)\n",
      "Requirement already satisfied: pytz>=2020.1 in c:\\users\\leelab\\appdata\\local\\anaconda3\\envs\\kilosort\\lib\\site-packages (from pandas->open-ephys-python-tools) (2023.3.post1)\n",
      "Requirement already satisfied: tzdata>=2022.7 in c:\\users\\leelab\\appdata\\local\\anaconda3\\envs\\kilosort\\lib\\site-packages (from pandas->open-ephys-python-tools) (2024.1)\n",
      "Requirement already satisfied: charset-normalizer<4,>=2 in c:\\users\\leelab\\appdata\\local\\anaconda3\\envs\\kilosort\\lib\\site-packages (from requests->open-ephys-python-tools) (2.0.4)\n",
      "Requirement already satisfied: idna<4,>=2.5 in c:\\users\\leelab\\appdata\\local\\anaconda3\\envs\\kilosort\\lib\\site-packages (from requests->open-ephys-python-tools) (3.4)\n",
      "Requirement already satisfied: urllib3<3,>=1.21.1 in c:\\users\\leelab\\appdata\\local\\anaconda3\\envs\\kilosort\\lib\\site-packages (from requests->open-ephys-python-tools) (2.1.0)\n",
      "Requirement already satisfied: certifi>=2017.4.17 in c:\\users\\leelab\\appdata\\local\\anaconda3\\envs\\kilosort\\lib\\site-packages (from requests->open-ephys-python-tools) (2024.2.2)\n",
      "Requirement already satisfied: pyzmq in c:\\users\\leelab\\appdata\\local\\anaconda3\\envs\\kilosort\\lib\\site-packages (from zmq->open-ephys-python-tools) (25.1.2)\n",
      "Requirement already satisfied: six>=1.5 in c:\\users\\leelab\\appdata\\local\\anaconda3\\envs\\kilosort\\lib\\site-packages (from python-dateutil>=2.8.2->pandas->open-ephys-python-tools) (1.16.0)\n",
      "Downloading h5py-3.10.0-cp39-cp39-win_amd64.whl (2.7 MB)\n",
      "   ---------------------------------------- 0.0/2.7 MB ? eta -:--:--\n",
      "   ---------------------------------------- 2.7/2.7 MB 87.1 MB/s eta 0:00:00\n",
      "Building wheels for collected packages: open-ephys-python-tools, zmq\n",
      "  Building wheel for open-ephys-python-tools (pyproject.toml): started\n",
      "  Building wheel for open-ephys-python-tools (pyproject.toml): finished with status 'done'\n",
      "  Created wheel for open-ephys-python-tools: filename=open_ephys_python_tools-0.1.7-py3-none-any.whl size=40010 sha256=e388f3b70f4b9522dbfb1bfe8da92336b34a00873b92241916c0c03e765ef97f\n",
      "  Stored in directory: c:\\users\\leelab\\appdata\\local\\pip\\cache\\wheels\\b9\\c9\\de\\18c3277d12c483705d9c667015726fac88d064f221d89227a9\n",
      "  Building wheel for zmq (setup.py): started\n",
      "  Building wheel for zmq (setup.py): finished with status 'done'\n",
      "  Created wheel for zmq: filename=zmq-0.0.0-py3-none-any.whl size=1270 sha256=614abc2049d6daef78b614ae3dd622bed51b2a5f120e9daf381b0d549dce9a1e\n",
      "  Stored in directory: c:\\users\\leelab\\appdata\\local\\pip\\cache\\wheels\\5b\\3b\\c0\\3521e7134b070e656ac26fea19d2110a88e351f0cb9b72e315\n",
      "Successfully built open-ephys-python-tools zmq\n",
      "Installing collected packages: zmq, h5py, open-ephys-python-tools\n",
      "Successfully installed h5py-3.10.0 open-ephys-python-tools-0.1.7 zmq-0.0.0\n"
     ]
    }
   ],
   "source": [
    "!pip install open-ephys-python-tools"
   ]
  }
 ],
 "metadata": {
  "kernelspec": {
   "display_name": "Python 3 (ipykernel)",
   "language": "python",
   "name": "python3"
  },
  "language_info": {
   "codemirror_mode": {
    "name": "ipython",
    "version": 3
   },
   "file_extension": ".py",
   "mimetype": "text/x-python",
   "name": "python",
   "nbconvert_exporter": "python",
   "pygments_lexer": "ipython3",
   "version": "3.9.19"
  }
 },
 "nbformat": 4,
 "nbformat_minor": 5
}
