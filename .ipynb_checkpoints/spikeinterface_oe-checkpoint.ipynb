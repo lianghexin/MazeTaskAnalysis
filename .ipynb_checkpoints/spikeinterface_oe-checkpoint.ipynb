{
 "cells": [
  {
   "cell_type": "code",
   "execution_count": 26,
   "id": "e6ec071c-a651-4aca-ba7a-8ba96f81ee20",
   "metadata": {},
   "outputs": [
    {
     "name": "stdout",
     "output_type": "stream",
     "text": [
      "SpikeInterface version: 0.100.2\n"
     ]
    }
   ],
   "source": [
    "import spikeinterface as si\n",
    "import spikeinterface.extractors as se \n",
    "import spikeinterface.preprocessing as spre\n",
    "import spikeinterface.sorters as ss\n",
    "import spikeinterface.postprocessing as spost\n",
    "import spikeinterface.qualitymetrics as sqm\n",
    "import spikeinterface.comparison as sc\n",
    "import spikeinterface.exporters as sexp\n",
    "import spikeinterface.widgets as sw\n",
    "from spikeinterface.extractors import read_openephys\n",
    "\n",
    "import json\n",
    "import matplotlib.pyplot as plt\n",
    "import numpy as np\n",
    "from pathlib import Path\n",
    "import glob\n",
    "import os\n",
    "import subprocess\n",
    "import sys\n",
    "from matplotlib import gridspec\n",
    "\n",
    "import warnings\n",
    "warnings.simplefilter(\"ignore\")\n",
    "\n",
    "print(f\"SpikeInterface version: {si.__version__}\")\n",
    "# %matplotlib widget"
   ]
  },
  {
   "cell_type": "code",
   "execution_count": 18,
   "id": "e0619c10-0ca5-4f13-8903-7054510d9e05",
   "metadata": {},
   "outputs": [],
   "source": [
    "sorting_alg = 'kilosort3'\n",
    "base_folder = Path(\"D:/HexinData/Dylan_2024-03-26_14-09-51_HPC\")"
   ]
  },
  {
   "cell_type": "code",
   "execution_count": 46,
   "id": "4d2bc334-3c62-45b3-9c8a-9d5c6cea009b",
   "metadata": {},
   "outputs": [
    {
     "data": {
      "text/plain": [
       "SelectSegmentRecording: 64 channels - 30.0kHz - 1 segments - 190,608,204 samples \n",
       "                        6,353.61s (1.76 hours) - int16 dtype - 22.72 GiB"
      ]
     },
     "execution_count": 46,
     "metadata": {},
     "output_type": "execute_result"
    }
   ],
   "source": [
    "# recording.select_segments(1)\n",
    "# recording.get_num_segments()"
   ]
  },
  {
   "cell_type": "code",
   "execution_count": 23,
   "id": "ac528d5d-6d87-4db6-a51b-558bc6991b70",
   "metadata": {},
   "outputs": [
    {
     "name": "stdout",
     "output_type": "stream",
     "text": [
      "Sampling frequency: 30000.0\n",
      "Number of channels: 64\n",
      "Number of segments: 2\n"
     ]
    }
   ],
   "source": [
    "recording = read_openephys(base_folder)\n",
    "\n",
    "recording.annotate(is_filtered=False)\n",
    "\n",
    "fs = recording.get_sampling_frequency()\n",
    "num_chan = recording.get_num_channels()\n",
    "num_segments = recording.get_num_segments()\n",
    "\n",
    "print(f'Sampling frequency: {fs}')\n",
    "print(f'Number of channels: {num_chan}')\n",
    "print(f\"Number of segments: {num_segments}\")"
   ]
  },
  {
   "cell_type": "code",
   "execution_count": 24,
   "id": "ce1035b3-e18c-4748-9b45-9ff6940e3d04",
   "metadata": {},
   "outputs": [],
   "source": [
    "job_kwargs = dict(n_jobs=10, chunk_duration=\"1s\", progress_bar=True)"
   ]
  },
  {
   "cell_type": "code",
   "execution_count": 27,
   "id": "a4c433bb-c9c7-4f91-8142-98748e6174c8",
   "metadata": {},
   "outputs": [
    {
     "name": "stdout",
     "output_type": "stream",
     "text": [
      "Setting KILOSORT3_PATH environment variable for subprocess calls to: D:\\Kilosort-3\\Kilosort-3\n",
      "Setting KILOSORT2_5_PATH environment variable for subprocess calls to: D:\\Kilosort-2.5\n",
      "Setting KILOSORT2_PATH environment variable for subprocess calls to: D:\\Kilosort-2.0\\Kilosort-2.0\n"
     ]
    },
    {
     "data": {
      "text/plain": [
       "['kilosort2', 'kilosort2_5', 'kilosort3', 'spykingcircus2', 'tridesclous2']"
      ]
     },
     "execution_count": 27,
     "metadata": {},
     "output_type": "execute_result"
    }
   ],
   "source": [
    "ss.Kilosort3Sorter.set_kilosort3_path('D:\\Kilosort-3\\Kilosort-3')\n",
    "ss.Kilosort2_5Sorter.set_kilosort2_5_path('D:\\Kilosort-2.5')\n",
    "ss.Kilosort2Sorter.set_kilosort2_path('D:\\Kilosort-2.0\\Kilosort-2.0')\n",
    "ss.installed_sorters()"
   ]
  },
  {
   "cell_type": "code",
   "execution_count": 30,
   "id": "eedbdc98-0523-403a-9b74-f2547e8c7381",
   "metadata": {},
   "outputs": [],
   "source": [
    "# poly3, ?deeper is more positive or more negative \n",
    "\n",
    "# for layout, counting from the left to right, top to bottom\n",
    "# col1: 0-20, col2: 21-42, col3: 43-63\n",
    "layout = np.zeros((64,2))\n",
    "ephys_config = np.zeros((64,2))\n",
    "\n",
    "layout[0:21,0]=-25*np.sqrt(3)/2\n",
    "layout[0:21,1]=-np.arange(21)*25-12.5\n",
    "layout[21:43,0]=0\n",
    "layout[21:43,1]=-np.arange(22)*25\n",
    "layout[43:,0]=25*np.sqrt(3)/2\n",
    "layout[43:,1]=-np.arange(21)*25-12.5\n",
    "\n",
    "mapping = np.array([55,58,60,59,61,64,19,18,20,21,22,23,24,25,26,27,28,29,30,31,32,\n",
    "                   16,50,15,49,14,52,13,51,12,54,11,53,10,56,8,57,5,62,2,63,46,17,\n",
    "                   9,7,6,4,3,1,47,45,48,43,44,41,42,39,40,37,38,35,36,33,34])\n",
    "\n",
    "ephys_config[mapping-1,:]=layout\n",
    "\n",
    "recording.set_channel_locations(ephys_config)"
   ]
  },
  {
   "cell_type": "code",
   "execution_count": 38,
   "id": "86f73b4f-1868-4119-94e7-0423734d4e39",
   "metadata": {},
   "outputs": [
    {
     "data": {
      "text/plain": [
       "{'detect_threshold': 6,\n",
       " 'projection_threshold': [9, 9],\n",
       " 'preclust_threshold': 8,\n",
       " 'car': True,\n",
       " 'minFR': 0.2,\n",
       " 'minfr_goodchannels': 0.2,\n",
       " 'nblocks': 5,\n",
       " 'sig': 20,\n",
       " 'freq_min': 300,\n",
       " 'sigmaMask': 30,\n",
       " 'lam': 20.0,\n",
       " 'nPCs': 3,\n",
       " 'ntbuff': 64,\n",
       " 'nfilt_factor': 4,\n",
       " 'do_correction': True,\n",
       " 'NT': None,\n",
       " 'AUCsplit': 0.8,\n",
       " 'wave_length': 61,\n",
       " 'keep_good_only': False,\n",
       " 'skip_kilosort_preprocessing': False,\n",
       " 'scaleproc': None,\n",
       " 'save_rez_to_mat': False,\n",
       " 'delete_tmp_files': ('matlab_files',),\n",
       " 'delete_recording_dat': False,\n",
       " 'n_jobs': 20,\n",
       " 'chunk_duration': '1s',\n",
       " 'progress_bar': True,\n",
       " 'mp_context': None,\n",
       " 'max_threads_per_process': 1}"
      ]
     },
     "execution_count": 38,
     "metadata": {},
     "output_type": "execute_result"
    }
   ],
   "source": [
    "ss.get_default_sorter_params(sorting_alg)"
   ]
  },
  {
   "cell_type": "code",
   "execution_count": 51,
   "id": "4bcce522",
   "metadata": {},
   "outputs": [
    {
     "ename": "ValueError",
     "evalue": "Folder D:\\HexinData\\Dylan_2024-03-26_14-09-51_HPC\\output\\kilosort3 already exists",
     "output_type": "error",
     "traceback": [
      "\u001b[1;31m---------------------------------------------------------------------------\u001b[0m",
      "\u001b[1;31mValueError\u001b[0m                                Traceback (most recent call last)",
      "Cell \u001b[1;32mIn[51], line 3\u001b[0m\n\u001b[0;32m      1\u001b[0m output_folder \u001b[38;5;241m=\u001b[39m base_folder \u001b[38;5;241m/\u001b[39m \u001b[38;5;124m'\u001b[39m\u001b[38;5;124moutput\u001b[39m\u001b[38;5;124m'\u001b[39m \u001b[38;5;241m/\u001b[39m sorting_alg\n\u001b[1;32m----> 3\u001b[0m sorting_output \u001b[38;5;241m=\u001b[39m ss\u001b[38;5;241m.\u001b[39mrun_sorter(sorting_alg, recording\u001b[38;5;241m.\u001b[39mselect_segments(\u001b[38;5;241m1\u001b[39m),\n\u001b[0;32m      4\u001b[0m                              output_folder\u001b[38;5;241m=\u001b[39moutput_folder,\n\u001b[0;32m      5\u001b[0m                              verbose\u001b[38;5;241m=\u001b[39m\u001b[38;5;28;01mTrue\u001b[39;00m,\u001b[38;5;241m*\u001b[39m\u001b[38;5;241m*\u001b[39mjob_kwargs)\n",
      "File \u001b[1;32m~\\AppData\\Local\\anaconda3\\Lib\\site-packages\\spikeinterface\\sorters\\runsorter.py:175\u001b[0m, in \u001b[0;36mrun_sorter\u001b[1;34m(sorter_name, recording, output_folder, remove_existing_folder, delete_output_folder, verbose, raise_error, docker_image, singularity_image, delete_container_files, with_output, **sorter_params)\u001b[0m\n\u001b[0;32m    168\u001b[0m             container_image \u001b[38;5;241m=\u001b[39m singularity_image\n\u001b[0;32m    169\u001b[0m     \u001b[38;5;28;01mreturn\u001b[39;00m run_sorter_container(\n\u001b[0;32m    170\u001b[0m         container_image\u001b[38;5;241m=\u001b[39mcontainer_image,\n\u001b[0;32m    171\u001b[0m         mode\u001b[38;5;241m=\u001b[39mmode,\n\u001b[0;32m    172\u001b[0m         \u001b[38;5;241m*\u001b[39m\u001b[38;5;241m*\u001b[39mcommon_kwargs,\n\u001b[0;32m    173\u001b[0m     )\n\u001b[1;32m--> 175\u001b[0m \u001b[38;5;28;01mreturn\u001b[39;00m run_sorter_local(\u001b[38;5;241m*\u001b[39m\u001b[38;5;241m*\u001b[39mcommon_kwargs)\n",
      "File \u001b[1;32m~\\AppData\\Local\\anaconda3\\Lib\\site-packages\\spikeinterface\\sorters\\runsorter.py:222\u001b[0m, in \u001b[0;36mrun_sorter_local\u001b[1;34m(sorter_name, recording, output_folder, remove_existing_folder, delete_output_folder, verbose, raise_error, with_output, **sorter_params)\u001b[0m\n\u001b[0;32m    219\u001b[0m SorterClass \u001b[38;5;241m=\u001b[39m sorter_dict[sorter_name]\n\u001b[0;32m    221\u001b[0m \u001b[38;5;66;03m# only classmethod call not instance (stateless at instance level but state is in folder)\u001b[39;00m\n\u001b[1;32m--> 222\u001b[0m output_folder \u001b[38;5;241m=\u001b[39m SorterClass\u001b[38;5;241m.\u001b[39minitialize_folder(recording, output_folder, verbose, remove_existing_folder)\n\u001b[0;32m    223\u001b[0m SorterClass\u001b[38;5;241m.\u001b[39mset_params_to_folder(recording, output_folder, sorter_params, verbose)\n\u001b[0;32m    224\u001b[0m SorterClass\u001b[38;5;241m.\u001b[39msetup_recording(recording, output_folder, verbose\u001b[38;5;241m=\u001b[39mverbose)\n",
      "File \u001b[1;32m~\\AppData\\Local\\anaconda3\\Lib\\site-packages\\spikeinterface\\sorters\\basesorter.py:132\u001b[0m, in \u001b[0;36mBaseSorter.initialize_folder\u001b[1;34m(cls, recording, output_folder, verbose, remove_existing_folder)\u001b[0m\n\u001b[0;32m    130\u001b[0m         shutil\u001b[38;5;241m.\u001b[39mrmtree(\u001b[38;5;28mstr\u001b[39m(output_folder))\n\u001b[0;32m    131\u001b[0m     \u001b[38;5;28;01melse\u001b[39;00m:\n\u001b[1;32m--> 132\u001b[0m         \u001b[38;5;28;01mraise\u001b[39;00m \u001b[38;5;167;01mValueError\u001b[39;00m(\u001b[38;5;124mf\u001b[39m\u001b[38;5;124m\"\u001b[39m\u001b[38;5;124mFolder \u001b[39m\u001b[38;5;132;01m{\u001b[39;00moutput_folder\u001b[38;5;132;01m}\u001b[39;00m\u001b[38;5;124m already exists\u001b[39m\u001b[38;5;124m\"\u001b[39m)\n\u001b[0;32m    134\u001b[0m output_folder\u001b[38;5;241m.\u001b[39mmkdir(parents\u001b[38;5;241m=\u001b[39m\u001b[38;5;28;01mTrue\u001b[39;00m, exist_ok\u001b[38;5;241m=\u001b[39m\u001b[38;5;28;01mTrue\u001b[39;00m)\n\u001b[0;32m    135\u001b[0m sorter_output_folder\u001b[38;5;241m.\u001b[39mmkdir()\n",
      "\u001b[1;31mValueError\u001b[0m: Folder D:\\HexinData\\Dylan_2024-03-26_14-09-51_HPC\\output\\kilosort3 already exists"
     ]
    }
   ],
   "source": [
    "output_folder = base_folder / 'output' / sorting_alg\n",
    "    \n",
    "sorting_output = ss.run_sorter(sorting_alg, recording.select_segments(1),\n",
    "                             output_folder=output_folder,\n",
    "                             verbose=True,**job_kwargs)\n"
   ]
  },
  {
   "cell_type": "code",
   "execution_count": 12,
   "id": "a3a16a65-d438-4537-b890-f818c567626c",
   "metadata": {},
   "outputs": [],
   "source": [
    "session_file = list(base_folder.glob(\"*.sqlite\"))[0]\n",
    "timestamp_file = base_folder / 'timestamps.data'\n",
    "alignment_file = base_folder / 'alignmentinfo_README.txt'"
   ]
  },
  {
   "cell_type": "code",
   "execution_count": 12,
   "id": "4c37d1fb-8fe9-454c-8470-03bfba971c70",
   "metadata": {},
   "outputs": [],
   "source": [
    "def extract_timing_ephys(base_dir,ttl_dir):    \n",
    "    timefile = ttl_dir / 'timestamps.npy'\n",
    "    statefile = ttl_dir / 'states.npy'\n",
    "    outfile = base_dir / 'timestamps.data'\n",
    "    \n",
    "    a = np.load(timefile)\n",
    "    b = np.load(statefile)\n",
    "    \n",
    "    c = a[b==1]\n",
    "    c.shape = (c.size,1)\n",
    "    \n",
    "    d = (a[b==-1]-a[b==1])*1000\n",
    "    d.shape = (d.size,1)\n",
    "    \n",
    "    np.savetxt(outfile,np.hstack([c,d]),fmt='%.6f,%.1f')"
   ]
  },
  {
   "cell_type": "code",
   "execution_count": 13,
   "id": "aaa0ecc5-9124-43a8-ae75-6f4a00ad8fc2",
   "metadata": {},
   "outputs": [],
   "source": [
    "if not os.path.exists(timestamp_file):\n",
    "    extract_timing_ephys(base_folder,ttl_path)\n",
    "    # For neuropixels recordings, run the following line instead:\n",
    "    # subprocess.run(['python','D:/SpikeInterface/extract_timing.py',data_path,str(sample_rate),str(nchannels),str(nchannels-1),\"2\"])\n",
    "\n",
    "# Align timing if not done already\n",
    "if not os.path.exists(alignment_file):\n",
    "    subprocess.run(['D:/SpikeInterface/align_timestamps.exe',session_file,timestamp_file,alignment_file])"
   ]
  }
 ],
 "metadata": {
  "kernelspec": {
   "display_name": "Python 3 (ipykernel)",
   "language": "python",
   "name": "python3"
  },
  "language_info": {
   "codemirror_mode": {
    "name": "ipython",
    "version": 3
   },
   "file_extension": ".py",
   "mimetype": "text/x-python",
   "name": "python",
   "nbconvert_exporter": "python",
   "pygments_lexer": "ipython3",
   "version": "3.11.7"
  }
 },
 "nbformat": 4,
 "nbformat_minor": 5
}
