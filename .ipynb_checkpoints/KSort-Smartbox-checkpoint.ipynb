{
 "cells": [
  {
   "cell_type": "code",
   "execution_count": 1,
   "id": "e6ec071c-a651-4aca-ba7a-8ba96f81ee20",
   "metadata": {},
   "outputs": [],
   "source": [
    "import spikeinterface as si\n",
    "import spikeinterface.extractors as se \n",
    "import spikeinterface.preprocessing as spre\n",
    "import spikeinterface.sorters as ss\n",
    "import spikeinterface.postprocessing as spost\n",
    "import spikeinterface.qualitymetrics as sqm\n",
    "import spikeinterface.comparison as sc\n",
    "import spikeinterface.exporters as sexp\n",
    "import spikeinterface.widgets as sw"
   ]
  },
  {
   "cell_type": "code",
   "execution_count": 2,
   "id": "0930cbd5-9f50-4b8f-849f-84a5e414c573",
   "metadata": {},
   "outputs": [
    {
     "name": "stdout",
     "output_type": "stream",
     "text": [
      "SpikeInterface version: 0.96.0\n"
     ]
    }
   ],
   "source": [
    "print(f\"SpikeInterface version: {si.__version__}\")"
   ]
  },
  {
   "cell_type": "code",
   "execution_count": 3,
   "id": "0865ff46-271b-4a8f-96e2-a388b3cccbf3",
   "metadata": {},
   "outputs": [],
   "source": [
    "import json\n",
    "import glob\n",
    "import matplotlib.pyplot as plt\n",
    "import numpy as np\n",
    "import os\n",
    "import subprocess\n",
    "from pathlib import Path\n",
    "\n",
    "import warnings\n",
    "warnings.simplefilter(\"ignore\")\n",
    "\n",
    "%matplotlib widget"
   ]
  },
  {
   "cell_type": "code",
   "execution_count": 4,
   "id": "a3a16a65-d438-4537-b890-f818c567626c",
   "metadata": {},
   "outputs": [],
   "source": [
    "base_folder = Path(\"D:\\KILOSORT-DATA\\Day77 Ens67 (HPC)\")\n",
    "header_file = list(base_folder.glob(\"*.json\"))[0]\n",
    "data_path = list(base_folder.glob(\"*data.xdat\"))[0]\n",
    "\n",
    "\"\"\"\n",
    "0 = A Probe\n",
    "1 = B Probe\n",
    "\"\"\"\n",
    "probe_ = 0;\n",
    "\n",
    "with open(header_file) as file_:\n",
    "  header_data = json.load(file_)\n",
    "\n",
    "samp_freq = header_data['status']['samp_freq']\n",
    "nchannels = header_data['status']['signals']['total']\n",
    "pri_chans = header_data['status']['signals']['pri']\n",
    "\n",
    "chan_names = header_data['sapiens_base']['biointerface_map']['chan_name']\n",
    "sync_channel = chan_names.index('din_1')\n",
    "\n",
    "ports = header_data['sapiens_base']['biointerface_map']['port'][:pri_chans]\n",
    "port_name, channel_offset, channel_per_probe = np.unique(ports,return_index=True,return_counts=True)\n",
    "\n",
    "ypos_all = header_data['sapiens_base']['biointerface_map']['site_ctr_tcs_y'][:pri_chans]\n",
    "ypos_per_probe = np.split(np.array(ypos_all),channel_offset[1:])  # probe_channel_index[0] is 0, exclude for splitting\n",
    "\n",
    "xpos_all = header_data['sapiens_base']['biointerface_map']['site_ctr_tcs_x'][:pri_chans]\n",
    "xpos_per_probe = np.split(np.array(xpos_all),channel_offset[1:])  # probe_channel_index[0] is 0, exclude for splitting\n",
    "\n",
    "probe_info = np.column_stack((xpos_all,ypos_all))\n",
    "\n",
    "chan_ids = header_data['sapiens_base']['biointerface_map']['site_num'][:pri_chans]\n",
    "for index in range(pri_chans):\n",
    "    chan_ids[index] -= 1\n",
    "    chan_ids[index] += channel_offset[probe_]\n",
    "\n",
    "chan_range = np.arange(channel_offset[probe_],channel_offset[probe_]+channel_per_probe[probe_],1)\n",
    "\n",
    "channel_gain = 5.0\n",
    "sorting_alg = 'kilosort3'"
   ]
  },
  {
   "cell_type": "code",
   "execution_count": 5,
   "id": "ac528d5d-6d87-4db6-a51b-558bc6991b70",
   "metadata": {},
   "outputs": [],
   "source": [
    "recording_binary = si.read_binary(file_paths=data_path,sampling_frequency=samp_freq,dtype='float32',num_chan=nchannels)"
   ]
  },
  {
   "cell_type": "code",
   "execution_count": 6,
   "id": "05f2172c-b48f-4ee8-afb7-3ca94bb34eb4",
   "metadata": {},
   "outputs": [
    {
     "data": {
      "text/plain": [
       "BinaryRecordingExtractor: 70 channels - 1 segments - 30.0kHz - 6172.217s\n",
       "  file_paths: ['D:\\\\KILOSORT-DATA\\\\Day77 Ens67 (HPC)\\\\allego_0__uid0214-12-54-15_data.xdat']"
      ]
     },
     "execution_count": 6,
     "metadata": {},
     "output_type": "execute_result"
    }
   ],
   "source": [
    "recording_binary"
   ]
  },
  {
   "cell_type": "code",
   "execution_count": 7,
   "id": "0947b0fe-b52b-425c-8974-6504593fd128",
   "metadata": {},
   "outputs": [],
   "source": [
    "recording_binary.annotate(is_filtered=False)"
   ]
  },
  {
   "cell_type": "code",
   "execution_count": 8,
   "id": "8fdf3b75-f830-4449-8112-8f2e9147c867",
   "metadata": {},
   "outputs": [
    {
     "name": "stdout",
     "output_type": "stream",
     "text": [
      "Channel ids: [ 0  1  2  3  4  5  6  7  8  9 10 11 12 13 14 15 16 17 18 19 20 21 22 23\n",
      " 24 25 26 27 28 29 30 31 32 33 34 35 36 37 38 39 40 41 42 43 44 45 46 47\n",
      " 48 49 50 51 52 53 54 55 56 57 58 59 60 61 62 63 64 65 66 67 68 69]\n",
      "Sampling frequency: 30000\n",
      "Number of channels: 70\n",
      "Number of segments: 1\n"
     ]
    }
   ],
   "source": [
    "channel_ids = recording_binary.get_channel_ids()\n",
    "fs = recording_binary.get_sampling_frequency()\n",
    "num_chan = recording_binary.get_num_channels()\n",
    "num_segments = recording_binary.get_num_segments()\n",
    "\n",
    "print(f'Channel ids: {channel_ids}')\n",
    "print(f'Sampling frequency: {fs}')\n",
    "print(f'Number of channels: {num_chan}')\n",
    "print(f\"Number of segments: {num_segments}\")"
   ]
  },
  {
   "cell_type": "code",
   "execution_count": 9,
   "id": "63615f41-670a-400d-83ec-5a4de15fee77",
   "metadata": {},
   "outputs": [],
   "source": [
    "recording_to_process = recording_binary.channel_slice(channel_ids=chan_range)\n",
    "recording_scaled = spre.scale(recording_to_process, gain=channel_gain);\n",
    "recording_f = spre.bandpass_filter(recording_scaled, freq_min=300, freq_max=6000)\n",
    "recording_cmr = spre.common_reference(recording_f, reference='global', operator='median')"
   ]
  },
  {
   "cell_type": "code",
   "execution_count": 10,
   "id": "2d3600df-a4a1-45fa-b7b1-80bf9808976b",
   "metadata": {},
   "outputs": [
    {
     "data": {
      "text/plain": [
       "CommonReferenceRecording: 64 channels - 1 segments - 30.0kHz - 6172.217s"
      ]
     },
     "execution_count": 10,
     "metadata": {},
     "output_type": "execute_result"
    }
   ],
   "source": [
    "fs = recording_cmr.get_sampling_frequency()\n",
    "#recording_sub = recording_cmr.frame_slice(start_frame=0*fs, end_frame=1500*fs)\n",
    "recording_sub = recording_cmr\n",
    "recording_sub"
   ]
  },
  {
   "cell_type": "code",
   "execution_count": 11,
   "id": "ce1035b3-e18c-4748-9b45-9ff6940e3d04",
   "metadata": {},
   "outputs": [],
   "source": [
    "job_kwargs = dict(n_jobs=10, chunk_duration=\"1s\", progress_bar=True)"
   ]
  },
  {
   "cell_type": "code",
   "execution_count": 12,
   "id": "c4b641b0-c096-4486-b224-9df8ffb79660",
   "metadata": {},
   "outputs": [
    {
     "name": "stdout",
     "output_type": "stream",
     "text": [
      "write_binary_recording with n_jobs = 10 and chunk_size = 30000\n"
     ]
    },
    {
     "data": {
      "application/vnd.jupyter.widget-view+json": {
       "model_id": "bedaccbc7bba4f98886f9002d3005fb2",
       "version_major": 2,
       "version_minor": 0
      },
      "text/plain": [
       "write_binary_recording:   0%|          | 0/6173 [00:00<?, ?it/s]"
      ]
     },
     "metadata": {},
     "output_type": "display_data"
    }
   ],
   "source": [
    "if probe_ == 0:\n",
    "    preprocessed_dir = base_folder / \"probe_a\" / \"preprocessed\"\n",
    "else:\n",
    "    preprocessed_dir = base_folder / \"probe_b\" / \"preprocessed\"\n",
    "\n",
    "if preprocessed_dir.is_dir():\n",
    "    recording_saved = si.load_extractor(preprocessed_dir)\n",
    "else:\n",
    "    recording_saved = recording_sub.save(folder=preprocessed_dir, **job_kwargs)"
   ]
  },
  {
   "cell_type": "code",
   "execution_count": 13,
   "id": "30b02045-436a-4fc5-9af7-7e78699fd31e",
   "metadata": {},
   "outputs": [
    {
     "data": {
      "text/plain": [
       "['combinato',\n",
       " 'hdsort',\n",
       " 'herdingspikes',\n",
       " 'ironclust',\n",
       " 'kilosort',\n",
       " 'kilosort2',\n",
       " 'kilosort2_5',\n",
       " 'kilosort3',\n",
       " 'klusta',\n",
       " 'mountainsort4',\n",
       " 'pykilosort',\n",
       " 'spykingcircus',\n",
       " 'spykingcircus2',\n",
       " 'tridesclous',\n",
       " 'tridesclous2',\n",
       " 'waveclus',\n",
       " 'waveclus_snippets',\n",
       " 'yass']"
      ]
     },
     "execution_count": 13,
     "metadata": {},
     "output_type": "execute_result"
    }
   ],
   "source": [
    "ss.available_sorters()"
   ]
  },
  {
   "cell_type": "code",
   "execution_count": 14,
   "id": "8c77868c-307e-41ee-a062-d893bced693d",
   "metadata": {},
   "outputs": [
    {
     "name": "stdout",
     "output_type": "stream",
     "text": [
      "RUNNING SHELL SCRIPT: C:\\Users\\leelab\\AppData\\Local\\Temp\\tmp_shellscriptyjyvq6lr\\script.bat\n",
      "RUNNING SHELL SCRIPT: C:\\Users\\leelab\\AppData\\Local\\Temp\\tmp_shellscriptx_2akk7t\\script.bat\n",
      "RUNNING SHELL SCRIPT: C:\\Users\\leelab\\AppData\\Local\\Temp\\tmp_shellscriptgz6zbtle\\script.bat\n",
      "RUNNING SHELL SCRIPT: C:\\Users\\leelab\\AppData\\Local\\Temp\\tmp_shellscriptoq78j7nx\\script.bat\n",
      "RUNNING SHELL SCRIPT: C:\\Users\\leelab\\AppData\\Local\\Temp\\tmp_shellscript5do_h99v\\script.bat\n",
      "RUNNING SHELL SCRIPT: C:\\Users\\leelab\\AppData\\Local\\Temp\\tmp_shellscriptdfx16899\\script.bat\n",
      "RUNNING SHELL SCRIPT: C:\\Users\\leelab\\AppData\\Local\\Temp\\tmp_shellscriptamam1lmc\\script.bat\n",
      "RUNNING SHELL SCRIPT: C:\\Users\\leelab\\AppData\\Local\\Temp\\tmp_shellscript2a16u26q\\script.bat\n"
     ]
    },
    {
     "data": {
      "text/plain": [
       "['spykingcircus2', 'tridesclous2']"
      ]
     },
     "execution_count": 14,
     "metadata": {},
     "output_type": "execute_result"
    }
   ],
   "source": [
    "ss.installed_sorters()"
   ]
  },
  {
   "cell_type": "code",
   "execution_count": 15,
   "id": "a4c433bb-c9c7-4f91-8142-98748e6174c8",
   "metadata": {},
   "outputs": [
    {
     "name": "stdout",
     "output_type": "stream",
     "text": [
      "Setting KILOSORT3_PATH environment variable for subprocess calls to: D:\\Kilosort-main\\Kilosort-main\n",
      "Setting KILOSORT2_5_PATH environment variable for subprocess calls to: D:\\Kilosort-2.5\n",
      "Setting KILOSORT2_PATH environment variable for subprocess calls to: D:\\Kilosort-2.0\\Kilosort-2.0\n"
     ]
    }
   ],
   "source": [
    "ss.Kilosort3Sorter.set_kilosort3_path('D:\\Kilosort-main\\Kilosort-main')\n",
    "ss.Kilosort2_5Sorter.set_kilosort2_5_path('D:\\Kilosort-2.5')\n",
    "ss.Kilosort2Sorter.set_kilosort2_path('D:\\Kilosort-2.0\\Kilosort-2.0')"
   ]
  },
  {
   "cell_type": "code",
   "execution_count": 16,
   "id": "5de42167-8d9b-4d0e-8f72-6c3d856fa21e",
   "metadata": {},
   "outputs": [
    {
     "name": "stdout",
     "output_type": "stream",
     "text": [
      "RUNNING SHELL SCRIPT: C:\\Users\\leelab\\AppData\\Local\\Temp\\tmp_shellscriptwemo9duq\\script.bat\n",
      "RUNNING SHELL SCRIPT: C:\\Users\\leelab\\AppData\\Local\\Temp\\tmp_shellscriptdp4v88a3\\script.bat\n",
      "RUNNING SHELL SCRIPT: C:\\Users\\leelab\\AppData\\Local\\Temp\\tmp_shellscriptkswvhp_k\\script.bat\n",
      "RUNNING SHELL SCRIPT: C:\\Users\\leelab\\AppData\\Local\\Temp\\tmp_shellscriptwmc4isq5\\script.bat\n",
      "RUNNING SHELL SCRIPT: C:\\Users\\leelab\\AppData\\Local\\Temp\\tmp_shellscripto_e_f1a_\\script.bat\n",
      "RUNNING SHELL SCRIPT: C:\\Users\\leelab\\AppData\\Local\\Temp\\tmp_shellscriptuk_acwsn\\script.bat\n",
      "RUNNING SHELL SCRIPT: C:\\Users\\leelab\\AppData\\Local\\Temp\\tmp_shellscriptgjp1hr78\\script.bat\n",
      "RUNNING SHELL SCRIPT: C:\\Users\\leelab\\AppData\\Local\\Temp\\tmp_shellscripthpwumvmm\\script.bat\n"
     ]
    },
    {
     "data": {
      "text/plain": [
       "['kilosort2', 'kilosort2_5', 'kilosort3', 'spykingcircus2', 'tridesclous2']"
      ]
     },
     "execution_count": 16,
     "metadata": {},
     "output_type": "execute_result"
    }
   ],
   "source": [
    "ss.installed_sorters()"
   ]
  },
  {
   "cell_type": "code",
   "execution_count": 17,
   "id": "4b7f6e9b-5d37-4e76-b91c-c64d7253e8b3",
   "metadata": {},
   "outputs": [
    {
     "data": {
      "text/plain": [
       "{'detect_threshold': 'Threshold for spike detection',\n",
       " 'projection_threshold': 'Threshold on projections',\n",
       " 'preclust_threshold': 'Threshold crossings for pre-clustering (in PCA projection space)',\n",
       " 'car': 'Enable or disable common reference',\n",
       " 'minFR': 'Minimum spike rate (Hz), if a cluster falls below this for too long it gets removed',\n",
       " 'minfr_goodchannels': \"Minimum firing rate on a 'good' channel\",\n",
       " 'nblocks': \"blocks for registration. 0 turns it off, 1 does rigid registration. Replaces 'datashift' option.\",\n",
       " 'sig': 'spatial smoothness constant for registration',\n",
       " 'freq_min': 'High-pass filter cutoff frequency',\n",
       " 'sigmaMask': 'Spatial constant in um for computing residual variance of spike',\n",
       " 'nPCs': 'Number of PCA dimensions',\n",
       " 'ntbuff': 'Samples of symmetrical buffer for whitening and spike detection',\n",
       " 'nfilt_factor': 'Max number of clusters per good channel (even temporary ones) 4',\n",
       " 'do_correction': 'If True drift registration is applied',\n",
       " 'NT': 'Batch size (if None it is automatically computed)',\n",
       " 'wave_length': 'size of the waveform extracted around each detected peak, (Default 61, maximum 81)',\n",
       " 'keep_good_only': \"If True only 'good' units are returned\",\n",
       " 'n_jobs': 'Number of jobs (when saving ti binary) - default 1',\n",
       " 'chunk_size': 'Number of samples per chunk (when saving ti binary) - default None',\n",
       " 'chunk_memory': \"Memory usage for each job (e.g. '100M', '1G') (when saving to binary) - default None\",\n",
       " 'total_memory': \"Total memory usage (e.g. '500M', '2G') (when saving to binary) - default None\",\n",
       " 'chunk_duration': \"Chunk duration in s if float or with units if str (e.g. '1s', '500ms') (when saving to binary) - default '1s'\",\n",
       " 'progress_bar': 'If True, progress bar is shown (when saving to binary) - default True'}"
      ]
     },
     "execution_count": 17,
     "metadata": {},
     "output_type": "execute_result"
    }
   ],
   "source": [
    "ss.get_sorter_params_description(sorting_alg)"
   ]
  },
  {
   "cell_type": "code",
   "execution_count": 18,
   "id": "85c3aa2d-7092-4e7f-ae5e-96ef1d894dd6",
   "metadata": {},
   "outputs": [
    {
     "data": {
      "text/plain": [
       "{'detect_threshold': 6,\n",
       " 'projection_threshold': [9, 9],\n",
       " 'preclust_threshold': 8,\n",
       " 'car': True,\n",
       " 'minFR': 0.2,\n",
       " 'minfr_goodchannels': 0.2,\n",
       " 'nblocks': 5,\n",
       " 'sig': 20,\n",
       " 'freq_min': 300,\n",
       " 'sigmaMask': 30,\n",
       " 'nPCs': 3,\n",
       " 'ntbuff': 64,\n",
       " 'nfilt_factor': 4,\n",
       " 'do_correction': True,\n",
       " 'NT': None,\n",
       " 'wave_length': 61,\n",
       " 'keep_good_only': False,\n",
       " 'n_jobs': 1,\n",
       " 'total_memory': None,\n",
       " 'chunk_size': None,\n",
       " 'chunk_memory': None,\n",
       " 'chunk_duration': '1s',\n",
       " 'progress_bar': True}"
      ]
     },
     "execution_count": 18,
     "metadata": {},
     "output_type": "execute_result"
    }
   ],
   "source": [
    "ss.get_default_sorter_params(sorting_alg)"
   ]
  },
  {
   "cell_type": "code",
   "execution_count": 19,
   "id": "fccfcf2e-110a-45b9-8255-34fe69e6dcf7",
   "metadata": {},
   "outputs": [
    {
     "data": {
      "text/plain": [
       "\u001b[1;31mSignature:\u001b[0m\n",
       "\u001b[0mss\u001b[0m\u001b[1;33m.\u001b[0m\u001b[0mrun_sorter\u001b[0m\u001b[1;33m(\u001b[0m\u001b[1;33m\n",
       "\u001b[0m    \u001b[0msorter_name\u001b[0m\u001b[1;33m:\u001b[0m \u001b[0mstr\u001b[0m\u001b[1;33m,\u001b[0m\u001b[1;33m\n",
       "\u001b[0m    \u001b[0mrecording\u001b[0m\u001b[1;33m:\u001b[0m \u001b[0mspikeinterface\u001b[0m\u001b[1;33m.\u001b[0m\u001b[0mcore\u001b[0m\u001b[1;33m.\u001b[0m\u001b[0mbaserecording\u001b[0m\u001b[1;33m.\u001b[0m\u001b[0mBaseRecording\u001b[0m\u001b[1;33m,\u001b[0m\u001b[1;33m\n",
       "\u001b[0m    \u001b[0moutput_folder\u001b[0m\u001b[1;33m:\u001b[0m \u001b[0mOptional\u001b[0m\u001b[1;33m[\u001b[0m\u001b[0mstr\u001b[0m\u001b[1;33m]\u001b[0m \u001b[1;33m=\u001b[0m \u001b[1;32mNone\u001b[0m\u001b[1;33m,\u001b[0m\u001b[1;33m\n",
       "\u001b[0m    \u001b[0mremove_existing_folder\u001b[0m\u001b[1;33m:\u001b[0m \u001b[0mbool\u001b[0m \u001b[1;33m=\u001b[0m \u001b[1;32mTrue\u001b[0m\u001b[1;33m,\u001b[0m\u001b[1;33m\n",
       "\u001b[0m    \u001b[0mdelete_output_folder\u001b[0m\u001b[1;33m:\u001b[0m \u001b[0mbool\u001b[0m \u001b[1;33m=\u001b[0m \u001b[1;32mFalse\u001b[0m\u001b[1;33m,\u001b[0m\u001b[1;33m\n",
       "\u001b[0m    \u001b[0mverbose\u001b[0m\u001b[1;33m:\u001b[0m \u001b[0mbool\u001b[0m \u001b[1;33m=\u001b[0m \u001b[1;32mFalse\u001b[0m\u001b[1;33m,\u001b[0m\u001b[1;33m\n",
       "\u001b[0m    \u001b[0mraise_error\u001b[0m\u001b[1;33m:\u001b[0m \u001b[0mbool\u001b[0m \u001b[1;33m=\u001b[0m \u001b[1;32mTrue\u001b[0m\u001b[1;33m,\u001b[0m\u001b[1;33m\n",
       "\u001b[0m    \u001b[0mdocker_image\u001b[0m\u001b[1;33m:\u001b[0m \u001b[0mUnion\u001b[0m\u001b[1;33m[\u001b[0m\u001b[0mbool\u001b[0m\u001b[1;33m,\u001b[0m \u001b[0mstr\u001b[0m\u001b[1;33m,\u001b[0m \u001b[0mNoneType\u001b[0m\u001b[1;33m]\u001b[0m \u001b[1;33m=\u001b[0m \u001b[1;32mFalse\u001b[0m\u001b[1;33m,\u001b[0m\u001b[1;33m\n",
       "\u001b[0m    \u001b[0msingularity_image\u001b[0m\u001b[1;33m:\u001b[0m \u001b[0mUnion\u001b[0m\u001b[1;33m[\u001b[0m\u001b[0mbool\u001b[0m\u001b[1;33m,\u001b[0m \u001b[0mstr\u001b[0m\u001b[1;33m,\u001b[0m \u001b[0mNoneType\u001b[0m\u001b[1;33m]\u001b[0m \u001b[1;33m=\u001b[0m \u001b[1;32mFalse\u001b[0m\u001b[1;33m,\u001b[0m\u001b[1;33m\n",
       "\u001b[0m    \u001b[0mwith_output\u001b[0m\u001b[1;33m:\u001b[0m \u001b[0mbool\u001b[0m \u001b[1;33m=\u001b[0m \u001b[1;32mTrue\u001b[0m\u001b[1;33m,\u001b[0m\u001b[1;33m\n",
       "\u001b[0m    \u001b[1;33m**\u001b[0m\u001b[0msorter_params\u001b[0m\u001b[1;33m,\u001b[0m\u001b[1;33m\n",
       "\u001b[0m\u001b[1;33m)\u001b[0m\u001b[1;33m\u001b[0m\u001b[1;33m\u001b[0m\u001b[0m\n",
       "\u001b[1;31mDocstring:\u001b[0m\n",
       "Generic function to run a sorter via function approach.\n",
       "\n",
       "\n",
       "Parameters\n",
       "----------\n",
       "sorter_name: str\n",
       "    The sorter name\n",
       "recording: RecordingExtractor\n",
       "    The recording extractor to be spike sorted\n",
       "output_folder: str or Path\n",
       "    Path to output folder\n",
       "remove_existing_folder: bool\n",
       "    If True and output_folder exists yet then delete.\n",
       "delete_output_folder: bool\n",
       "    If True, output folder is deleted (default False)\n",
       "verbose: bool\n",
       "    If True, output is verbose\n",
       "raise_error: bool\n",
       "    If True, an error is raised if spike sorting fails (default).\n",
       "    If False, the process continues and the error is logged in the log file.\n",
       "docker_image: bool or str\n",
       "    If True, pull the default docker container for the sorter and run the sorter in that container using docker.\n",
       "    Use a str to specify a non-default container. If that container is not local it will be pulled from docker hub.\n",
       "    If False, the sorter is run locally.\n",
       "singularity_image: bool or str\n",
       "    If True, pull the default docker container for the sorter and run the sorter in that container using \n",
       "    singularity. Use a str to specify a non-default container. If that container is not local it will be pulled \n",
       "    from Docker Hub.\n",
       "    If False, the sorter is run locally.\n",
       "**sorter_params: keyword args\n",
       "    Spike sorter specific arguments (they can be retrieved with 'get_default_params(sorter_name_or_class)'\n",
       "\n",
       "Returns\n",
       "-------\n",
       "sortingextractor: SortingExtractor\n",
       "    The spike sorted data\n",
       "\n",
       "\n",
       "Examples\n",
       "--------\n",
       ">>> sorting = run_sorter(\"tridesclous\", recording)\n",
       "\u001b[1;31mFile:\u001b[0m      c:\\users\\leelab\\appdata\\local\\miniconda3\\lib\\site-packages\\spikeinterface\\sorters\\runsorter.py\n",
       "\u001b[1;31mType:\u001b[0m      function"
      ]
     },
     "metadata": {},
     "output_type": "display_data"
    }
   ],
   "source": [
    "ss.run_sorter?"
   ]
  },
  {
   "cell_type": "code",
   "execution_count": 20,
   "id": "689fa5b6-b0e5-4075-a8b7-bf4854bcb883",
   "metadata": {},
   "outputs": [],
   "source": [
    "sorter_params = {'do_correction': False}"
   ]
  },
  {
   "cell_type": "code",
   "execution_count": 21,
   "id": "eedbdc98-0523-403a-9b74-f2547e8c7381",
   "metadata": {},
   "outputs": [],
   "source": [
    "recording_saved.set_channel_locations(probe_info[chan_range], channel_ids=chan_ids[channel_offset[probe_]:(channel_offset[probe_]+channel_per_probe[probe_])])"
   ]
  },
  {
   "cell_type": "code",
   "execution_count": 22,
   "id": "e9226112-6741-4a3a-9b00-a234150f56e6",
   "metadata": {},
   "outputs": [
    {
     "name": "stdout",
     "output_type": "stream",
     "text": [
      "RUNNING SHELL SCRIPT: C:\\Users\\leelab\\AppData\\Local\\Temp\\tmp_shellscriptxrkc2_ia\\script.bat\n"
     ]
    },
    {
     "data": {
      "application/vnd.jupyter.widget-view+json": {
       "model_id": "72fed795370149698530f33e0c1c3ebd",
       "version_major": 2,
       "version_minor": 0
      },
      "text/plain": [
       "write_binary_recording:   0%|          | 0/6173 [00:00<?, ?it/s]"
      ]
     },
     "metadata": {},
     "output_type": "display_data"
    },
    {
     "name": "stdout",
     "output_type": "stream",
     "text": [
      "RUNNING SHELL SCRIPT: C:\\Users\\leelab\\AppData\\Local\\Temp\\tmp_shellscriptuclyxxug\\script.bat\n",
      "RUNNING SHELL SCRIPT: C:\\Users\\leelab\\AppData\\Local\\Temp\\tmp_shellscript9vsreaeh\\script.bat\n",
      "RUNNING SHELL SCRIPT: D:\\KILOSORT-DATA\\Day77 Ens67 (HPC)\\probe_a\\kilosort3\\run_kilosort3.bat\n",
      "\n",
      "\n",
      "D:\\SpikeInterface>D:\n",
      "\n",
      "\n",
      "\n",
      "D:\\SpikeInterface>cd D:\\KILOSORT-DATA\\Day77 Ens67 (HPC)\\probe_a\\kilosort3 \n",
      "\n",
      "\n",
      "\n",
      "D:\\KILOSORT-DATA\\Day77 Ens67 (HPC)\\probe_a\\kilosort3>matlab -nosplash -wait -r \"kilosort3_master('D:\\KILOSORT-DATA\\Day77 Ens67 (HPC)\\probe_a\\kilosort3', 'D:\\Kilosort-main\\Kilosort-main')\" \n",
      "\n",
      "kilosort3 run time 1284.55s\n"
     ]
    }
   ],
   "source": [
    "# run spike sorting on entire recording\n",
    "if probe_ == 0:\n",
    "    output_folder = base_folder / 'probe_a' / sorting_alg\n",
    "else:\n",
    "    output_folder = base_folder / 'probe_b' / sorting_alg\n",
    "    \n",
    "sorting_KS3 = ss.run_sorter(sorting_alg, recording_saved,\n",
    "                             output_folder=output_folder,\n",
    "                             verbose=True, **sorter_params, **job_kwargs)"
   ]
  },
  {
   "cell_type": "code",
   "execution_count": 23,
   "id": "f8d903f1-6296-4c1f-8251-f26203478e0a",
   "metadata": {},
   "outputs": [],
   "source": [
    "if sorting_alg == 'kilosort3':\n",
    "    # Update params.py to point to temp_wh.dat locally\n",
    "    params_file = output_folder / 'params.py'\n",
    "    \n",
    "    with open(params_file,'r') as file_:\n",
    "        params_ = file_.readlines()\n",
    "    \n",
    "    if params_:\n",
    "        params_[0] = 'dat_path = \\'temp_wh.dat\\'\\n'\n",
    "        with open(params_file,'w') as file_:\n",
    "            file_.writelines(params_)\n",
    "\n",
    "    # Delete the unnecessary recording.dat if it exists\n",
    "    tbd = output_folder / 'recording.dat'\n",
    "    if os.path.exists(tbd):\n",
    "        os.remove(tbd)\n",
    "\n",
    "    # Extract phy waveforms\n",
    "    phy_script = r'D:\\SpikeInterface\\run_phy.bat'\n",
    "    subprocess.run([phy_script, output_folder])\n",
    "\n",
    "    # Extract timing signal if not done already\n",
    "    if not os.path.exists(base_folder / 'timestamps.data'):\n",
    "        subprocess.run(['python','D:/SpikeInterface/extract_timing.py',data_path,str(samp_freq),str(nchannels),str(sync_channel),\"4\"])"
   ]
  }
 ],
 "metadata": {
  "kernelspec": {
   "display_name": "Python3 (si_env)",
   "language": "python",
   "name": "si_env"
  },
  "language_info": {
   "codemirror_mode": {
    "name": "ipython",
    "version": 3
   },
   "file_extension": ".py",
   "mimetype": "text/x-python",
   "name": "python",
   "nbconvert_exporter": "python",
   "pygments_lexer": "ipython3",
   "version": "3.11.4"
  }
 },
 "nbformat": 4,
 "nbformat_minor": 5
}
